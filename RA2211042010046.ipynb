{
  "nbformat": 4,
  "nbformat_minor": 0,
  "metadata": {
    "colab": {
      "provenance": [],
      "authorship_tag": "ABX9TyOadVcVq1sY5MCL/DC3BZoH",
      "include_colab_link": true
    },
    "kernelspec": {
      "name": "python3",
      "display_name": "Python 3"
    },
    "language_info": {
      "name": "python"
    }
  },
  "cells": [
    {
      "cell_type": "markdown",
      "metadata": {
        "id": "view-in-github",
        "colab_type": "text"
      },
      "source": [
        "<a href=\"https://colab.research.google.com/github/yaswanthsaiteja/21css101j-python/blob/main/RA2211042010046.ipynb\" target=\"_parent\"><img src=\"https://colab.research.google.com/assets/colab-badge.svg\" alt=\"Open In Colab\"/></a>"
      ]
    },
    {
      "cell_type": "markdown",
      "source": [],
      "metadata": {
        "id": "SuNk6tVZNf8K"
      }
    },
    {
      "cell_type": "markdown",
      "source": [
        "hello world printing"
      ],
      "metadata": {
        "id": "d6k7sPxFNdjI"
      }
    },
    {
      "cell_type": "code",
      "execution_count": null,
      "metadata": {
        "id": "U3kKLIMrKkMp"
      },
      "outputs": [],
      "source": [
        "print(\"HELLO WORLD\")"
      ]
    },
    {
      "cell_type": "markdown",
      "source": [
        "ADDITION OF TWO NUMBERS"
      ],
      "metadata": {
        "id": "vhpIfxWyOe7r"
      }
    },
    {
      "cell_type": "code",
      "source": [
        "633766+7499748"
      ],
      "metadata": {
        "colab": {
          "base_uri": "https://localhost:8080/"
        },
        "id": "Nzppk_XfLWjq",
        "outputId": "238cf2c6-d535-4653-d7ea-6d7d205310f9"
      },
      "execution_count": 12,
      "outputs": [
        {
          "output_type": "execute_result",
          "data": {
            "text/plain": [
              "8133514"
            ]
          },
          "metadata": {},
          "execution_count": 12
        }
      ]
    },
    {
      "cell_type": "markdown",
      "source": [
        "MUL AND ADDITION"
      ],
      "metadata": {
        "id": "4hlbezPgRbPx"
      }
    },
    {
      "cell_type": "code",
      "source": [
        "2*2+2"
      ],
      "metadata": {
        "colab": {
          "base_uri": "https://localhost:8080/"
        },
        "id": "WW8UoSeoQ_UJ",
        "outputId": "46de6062-1c13-4f9f-d608-aeb3749f0461"
      },
      "execution_count": 14,
      "outputs": [
        {
          "output_type": "execute_result",
          "data": {
            "text/plain": [
              "6"
            ]
          },
          "metadata": {},
          "execution_count": 14
        }
      ]
    },
    {
      "cell_type": "markdown",
      "source": [
        "DIVISION AND MUL"
      ],
      "metadata": {
        "id": "3OzNEyY5Ru2z"
      }
    },
    {
      "cell_type": "code",
      "source": [
        "55555/(2233*334)"
      ],
      "metadata": {
        "colab": {
          "base_uri": "https://localhost:8080/"
        },
        "id": "aa8FQu5uRjtB",
        "outputId": "d60c41d8-cff4-47d4-f74e-765fc21cf4f1"
      },
      "execution_count": 15,
      "outputs": [
        {
          "output_type": "execute_result",
          "data": {
            "text/plain": [
              "0.07448828272697774"
            ]
          },
          "metadata": {},
          "execution_count": 15
        }
      ]
    },
    {
      "cell_type": "markdown",
      "source": [
        "ADDITION AND SUBTRACTION AT A TIME"
      ],
      "metadata": {
        "id": "CO7aL4xESGx7"
      }
    },
    {
      "cell_type": "code",
      "source": [
        "(233+333)-(7827+8728)"
      ],
      "metadata": {
        "colab": {
          "base_uri": "https://localhost:8080/"
        },
        "id": "PC0BcQ0TR2Ym",
        "outputId": "3726a2cc-e060-4282-ff2a-1b2fbd195d03"
      },
      "execution_count": 16,
      "outputs": [
        {
          "output_type": "execute_result",
          "data": {
            "text/plain": [
              "-15989"
            ]
          },
          "metadata": {},
          "execution_count": 16
        }
      ]
    },
    {
      "cell_type": "markdown",
      "source": [
        "print a,b,c values"
      ],
      "metadata": {
        "id": "4UzRPCmdUmTn"
      }
    },
    {
      "cell_type": "code",
      "source": [
        "a=939939\n",
        "b='siddu padukodu'\n",
        "c=a+983848\n",
        "print(\"print abc\",b,c)"
      ],
      "metadata": {
        "colab": {
          "base_uri": "https://localhost:8080/"
        },
        "id": "sVRhwUbaTOBr",
        "outputId": "cbd71435-a2e6-4291-c44c-d50ea685bfd6"
      },
      "execution_count": 20,
      "outputs": [
        {
          "output_type": "stream",
          "name": "stdout",
          "text": [
            "print abc siddu padukodu 1923787\n"
          ]
        }
      ]
    },
    {
      "cell_type": "markdown",
      "source": [
        "subraction of two numbers"
      ],
      "metadata": {
        "id": "R9u9gj_IZAoQ"
      }
    },
    {
      "cell_type": "code",
      "source": [
        "64453-86363"
      ],
      "metadata": {
        "colab": {
          "base_uri": "https://localhost:8080/"
        },
        "id": "E0bmk16FMIw0",
        "outputId": "06540f3c-962e-4318-8413-893bd63dcb23"
      },
      "execution_count": 17,
      "outputs": [
        {
          "output_type": "execute_result",
          "data": {
            "text/plain": [
              "-21910"
            ]
          },
          "metadata": {},
          "execution_count": 17
        }
      ]
    },
    {
      "cell_type": "markdown",
      "source": [
        "MUL OF TWO NUMBERS"
      ],
      "metadata": {
        "id": "jst6ui08OsHU"
      }
    },
    {
      "cell_type": "code",
      "source": [
        "7664646637*63636366"
      ],
      "metadata": {
        "colab": {
          "base_uri": "https://localhost:8080/"
        },
        "id": "bZ2tyWoXMYTa",
        "outputId": "8946fc5c-ba35-467f-8004-7e1dbde99cf6"
      },
      "execution_count": 4,
      "outputs": [
        {
          "output_type": "execute_result",
          "data": {
            "text/plain": [
              "487750258652801142"
            ]
          },
          "metadata": {},
          "execution_count": 4
        }
      ]
    },
    {
      "cell_type": "markdown",
      "source": [
        "REMAINDER "
      ],
      "metadata": {
        "id": "zqzP_3DROx2Y"
      }
    },
    {
      "cell_type": "code",
      "source": [
        "84773%6672"
      ],
      "metadata": {
        "colab": {
          "base_uri": "https://localhost:8080/"
        },
        "id": "Gl0fqB46MdJ6",
        "outputId": "00375259-4a09-4851-9f1b-5b2f17196594"
      },
      "execution_count": 5,
      "outputs": [
        {
          "output_type": "execute_result",
          "data": {
            "text/plain": [
              "4709"
            ]
          },
          "metadata": {},
          "execution_count": 5
        }
      ]
    },
    {
      "cell_type": "markdown",
      "source": [
        "DIVISION "
      ],
      "metadata": {
        "id": "OaTLUmXqPIPv"
      }
    },
    {
      "cell_type": "code",
      "source": [
        "646677/63773"
      ],
      "metadata": {
        "colab": {
          "base_uri": "https://localhost:8080/"
        },
        "id": "nqQQs07OM0Rq",
        "outputId": "c0116d1f-9add-4c54-85d0-10413e91a1bf"
      },
      "execution_count": 8,
      "outputs": [
        {
          "output_type": "execute_result",
          "data": {
            "text/plain": [
              "10.14029448199081"
            ]
          },
          "metadata": {},
          "execution_count": 8
        }
      ]
    },
    {
      "cell_type": "markdown",
      "source": [
        "ENTER MY NAME"
      ],
      "metadata": {
        "id": "cc76hUPXP_-9"
      }
    },
    {
      "cell_type": "code",
      "source": [
        "print(\"yaswanth sai teja\")"
      ],
      "metadata": {
        "colab": {
          "base_uri": "https://localhost:8080/"
        },
        "id": "k4zceiauNVK_",
        "outputId": "4f0ff396-8ca0-45b6-fc2a-f6fa711bd4c1"
      },
      "execution_count": 11,
      "outputs": [
        {
          "output_type": "stream",
          "name": "stdout",
          "text": [
            "yaswanth sai teja\n"
          ]
        }
      ]
    },
    {
      "cell_type": "markdown",
      "source": [
        "ENTER MY REGISTER NO"
      ],
      "metadata": {
        "id": "4locHsdMQM7_"
      }
    },
    {
      "cell_type": "code",
      "source": [
        "print(\"RA2211042010046\")"
      ],
      "metadata": {
        "colab": {
          "base_uri": "https://localhost:8080/"
        },
        "id": "m2xWcSpvQV5z",
        "outputId": "01af1ee1-c477-4aa8-a651-1b256c3f31e1"
      },
      "execution_count": 10,
      "outputs": [
        {
          "output_type": "stream",
          "name": "stdout",
          "text": [
            "RA2211042010046\n"
          ]
        }
      ]
    }
  ]
}